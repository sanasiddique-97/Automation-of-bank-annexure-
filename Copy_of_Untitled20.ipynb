{
  "nbformat": 4,
  "nbformat_minor": 0,
  "metadata": {
    "colab": {
      "provenance": [],
      "mount_file_id": "1KtlxDlba4zaoCvLCqq0i3rnhzUU8SWym",
      "authorship_tag": "ABX9TyP+dXGpkxKqtJoDeU/vLIPl",
      "include_colab_link": true
    },
    "kernelspec": {
      "name": "python3",
      "display_name": "Python 3"
    },
    "language_info": {
      "name": "python"
    }
  },
  "cells": [
    {
      "cell_type": "markdown",
      "metadata": {
        "id": "view-in-github",
        "colab_type": "text"
      },
      "source": [
        "<a href=\"https://colab.research.google.com/github/sanasiddique-97/Automation-of-bank-annexure-/blob/main/Copy_of_Untitled20.ipynb\" target=\"_parent\"><img src=\"https://colab.research.google.com/assets/colab-badge.svg\" alt=\"Open In Colab\"/></a>"
      ]
    },
    {
      "cell_type": "code",
      "execution_count": null,
      "metadata": {
        "colab": {
          "base_uri": "https://localhost:8080/"
        },
        "id": "FvR8zNSnnue3",
        "outputId": "f81568ab-81d9-4b88-cffa-71d2f6aed4e7"
      },
      "outputs": [
        {
          "output_type": "stream",
          "name": "stdout",
          "text": [
            "       App      Category  Rating   Reviews  Size  Installs  Type  Price  \\\n",
            "0    App_1        Health     1.0  1.000000  30.0     50000  Free   5.99   \n",
            "1    App_2  Productivity     2.1  0.106407  30.0     50000  Paid   0.99   \n",
            "2    App_3          Game     1.6  0.185760  20.0    100000  Free   5.99   \n",
            "3    App_4          Game     2.4  0.170251  10.0     10000  Paid   9.99   \n",
            "4    App_5     Education     4.8  0.519697  20.0     10000  Free   1.99   \n",
            "5    App_6          Game     1.5  0.061580  20.0    100000  Free   0.99   \n",
            "6    App_7  Productivity     1.3  0.708173  10.0      1000  Free   2.99   \n",
            "7    App_8     Education     1.2  0.627236  20.0     10000  Free   2.99   \n",
            "8    App_9          Game     1.9  0.681798  10.0    100000  Paid   0.99   \n",
            "9   App_10          Game     3.2  0.594295  20.0     10000  Paid   2.99   \n",
            "10  App_11        Health     4.3  0.346729  20.0     50000  Free   0.99   \n",
            "11  App_12          Game     1.3  0.060109  10.0      1000  Free   1.99   \n",
            "12  App_13          Game     2.1  0.944193  20.0     10000  Free   5.99   \n",
            "13  App_14  Productivity     1.6  0.042223  20.0    100000  Free   0.99   \n",
            "14  App_15  Productivity     3.8  0.978153  20.0      1000  Paid   2.99   \n",
            "15  App_16          Game     1.2  0.622595  30.0      1000  Free   4.99   \n",
            "16  App_17     Education     2.6  0.609350  30.0     50000  Paid   9.99   \n",
            "17  App_18     Education     3.8  0.376613  10.0     10000  Free   2.99   \n",
            "18  App_19          Game     4.0  0.685080  30.0     10000  Paid   4.99   \n",
            "19  App_20     Education     4.1  0.933779  30.0     50000  Free   1.99   \n",
            "20  App_21  Productivity     4.2  0.000000  10.0     10000  Free   9.99   \n",
            "21  App_22     Education     3.9  0.931401  10.0     10000  Free   0.00   \n",
            "22  App_23          Game     2.8  0.484605  20.0      1000  Paid   4.99   \n",
            "23  App_24     Education     4.8  0.276319  10.0     50000  Paid   0.00   \n",
            "24  App_25        Health     1.5  0.261376  10.0      1000  Paid   2.99   \n",
            "25  App_26          Game     4.3  0.918497  20.0    100000  Paid   0.99   \n",
            "26  App_27          Game     4.4  0.512678  30.0     50000  Free   5.99   \n",
            "27  App_28          Game     3.9  0.750057  10.0    100000  Free   5.99   \n",
            "28  App_29          Game     4.5  0.086484  30.0     50000  Paid   1.99   \n",
            "29  App_30        Health     3.7  0.302807  20.0      1000  Free   4.99   \n",
            "\n",
            "   Content Rating  Log_Installs  Popularity Affordable  \n",
            "0    Everyone 10+      0.849455    1.000000        N/A  \n",
            "1        Everyone      0.849455    0.223455        Yes  \n",
            "2    Everyone 10+      1.000000    0.297215        N/A  \n",
            "3      Mature 17+      0.499912    0.408603         No  \n",
            "4        Everyone      0.499912    2.494544        N/A  \n",
            "5      Mature 17+      1.000000    0.092370        N/A  \n",
            "6    Everyone 10+      0.000000    0.920625        N/A  \n",
            "7      Mature 17+      0.499912    0.752683        N/A  \n",
            "8    Everyone 10+      1.000000    1.295415        Yes  \n",
            "9      Mature 17+      0.499912    1.901743        Yes  \n",
            "10           Teen      0.849455    1.490933        N/A  \n",
            "11   Everyone 10+      0.000000    0.078141        N/A  \n",
            "12       Everyone      0.499912    1.982805        N/A  \n",
            "13     Mature 17+      1.000000    0.067557        N/A  \n",
            "14   Everyone 10+      0.000000    3.716980        Yes  \n",
            "15           Teen      0.000000    0.747113        N/A  \n",
            "16           Teen      0.849455    1.584311         No  \n",
            "17       Everyone      0.499912    1.431130        N/A  \n",
            "18       Everyone      0.499912    2.740321        Yes  \n",
            "19   Everyone 10+      0.849455    3.828492        N/A  \n",
            "20   Everyone 10+      0.499912    0.000000        N/A  \n",
            "21     Mature 17+      0.499912    3.632465        N/A  \n",
            "22           Teen      0.000000    1.356894        Yes  \n",
            "23   Everyone 10+      0.849455    1.326330        Yes  \n",
            "24       Everyone      0.000000    0.392065        Yes  \n",
            "25   Everyone 10+      1.000000    3.949536        Yes  \n",
            "26   Everyone 10+      0.849455    2.255784        N/A  \n",
            "27           Teen      1.000000    2.925221        N/A  \n",
            "28   Everyone 10+      0.849455    0.389178        Yes  \n",
            "29       Everyone      0.000000    1.120387        N/A  \n"
          ]
        }
      ],
      "source": [
        "import pandas as pd\n",
        "import numpy as np\n",
        "\n",
        "# Generating sample Google Play Store data\n",
        "data = {\n",
        "    'App': [f'App_{i}' for i in range(1, 31)],\n",
        "    'Category': np.random.choice(['Game', 'Productivity', 'Health', 'Education'], 30),\n",
        "    'Rating': np.random.uniform(1.0, 5.0, 30).round(1),\n",
        "    'Reviews': np.random.randint(1, 10000, 30),\n",
        "    'Size': np.random.choice(['Varies with device', '10M', '20M', '30M'], 30),\n",
        "    'Installs': np.random.choice(['1,000+', '10,000+', '50,000+', '100,000+'], 30),\n",
        "    'Type': np.random.choice(['Free', 'Paid'], 30),\n",
        "    'Price': np.random.choice(['0', '0.99', '1.99', '2.99', '4.99', '5.99', '9.99'], 30),\n",
        "    'Content Rating': np.random.choice(['Everyone', 'Teen', 'Everyone 10+', 'Mature 17+'], 30)\n",
        "}\n",
        "\n",
        "# Creating DataFrame\n",
        "df = pd.DataFrame(data)\n",
        "\n",
        "# Basic data cleansing\n",
        "# Step 1: Convert 'Price' to numeric, replacing '$' and converting 'Free' to 0\n",
        "df['Price'] = df['Price'].replace('Free', '0').str.replace('$', '').astype(float)\n",
        "\n",
        "# Additional Steps\n",
        "# Step 2: Remove duplicates based on the 'App' column\n",
        "df = df.drop_duplicates(subset=['App'])\n",
        "\n",
        "# Step 3: Fill missing values in 'Rating' with the mean rating\n",
        "df['Rating'] = df['Rating'].fillna(df['Rating'].mean())\n",
        "\n",
        "# Step 4: Normalize the 'Reviews' column (scaling between 0 and 1)\n",
        "df['Reviews'] = (df['Reviews'] - df['Reviews'].min()) / (df['Reviews'].max() - df['Reviews'].min())\n",
        "\n",
        "# Step 5: Simplify 'Size' column (replace 'Varies with device' with NaN)\n",
        "df['Size'] = df['Size'].replace('Varies with device', np.nan)\n",
        "\n",
        "# Step 6: Convert 'Size' from string to numeric (assume 'M' means MB)\n",
        "df['Size'] = df['Size'].str.replace('M', '').astype(float)\n",
        "\n",
        "# Step 7: Fill missing values in 'Size' with the median size\n",
        "df['Size'] = df['Size'].fillna(df['Size'].median())\n",
        "\n",
        "# Step 8: Clean 'Installs' column (remove '+' and ',')\n",
        "df['Installs'] = df['Installs'].str.replace(',', '').str.replace('+', '').astype(int)\n",
        "\n",
        "# Step 9: Create a new column 'Log_Installs' (log transformation of 'Installs')\n",
        "df['Log_Installs'] = np.log1p(df['Installs'])\n",
        "\n",
        "# Step 10: Normalize 'Log_Installs' column\n",
        "df['Log_Installs'] = (df['Log_Installs'] - df['Log_Installs'].min()) / (df['Log_Installs'].max() - df['Log_Installs'].min())\n",
        "\n",
        "# Step 11: Create a new column 'Popularity' based on 'Rating' and 'Reviews'\n",
        "df['Popularity'] = df['Rating'] * df['Reviews']\n",
        "\n",
        "# Check and categorize paid apps\n",
        "df['Affordable'] = np.where(df['Type'] == 'Paid', np.where(df['Price'] < 5.00, 'Yes', 'No'), 'N/A')\n",
        "\n",
        "# Display the DataFrame\n",
        "print(df)"
      ]
    },
    {
      "cell_type": "code",
      "source": [],
      "metadata": {
        "id": "60rNqa4Gn-gC"
      },
      "execution_count": null,
      "outputs": []
    }
  ]
}